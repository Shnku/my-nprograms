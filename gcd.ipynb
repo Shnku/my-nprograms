{
 "cells": [
  {
   "cell_type": "markdown",
   "id": "701554f1-c679-4f56-bc3d-8b59a6c6c701",
   "metadata": {},
   "source": [
    "This is the first ster to build gcd i py.."
   ]
  },
  {
   "cell_type": "code",
   "execution_count": 1,
   "id": "1500bcfd-0875-498a-b57b-7d5a1d8dd31d",
   "metadata": {},
   "outputs": [
    {
     "data": {
      "text/plain": [
       "6"
      ]
     },
     "execution_count": 1,
     "metadata": {},
     "output_type": "execute_result"
    }
   ],
   "source": [
    "def gcd(m,n):\n",
    "    fm=[]\n",
    "    for i in range(1,m+1):\n",
    "        if(m%i)==0:\n",
    "            fm.append(i)\n",
    "    fn=[]\n",
    "    for j in range(1,n+1):\n",
    "        if(n%j)==0:\n",
    "            fn.append(j)\n",
    "    cf=[]\n",
    "    for f in fm:\n",
    "        if f in fn:\n",
    "            cf.append(f)\n",
    "    return(cf[-1])\n",
    "\n",
    "gcd(12,30)"
   ]
  },
  {
   "cell_type": "markdown",
   "id": "0a796117-87b2-4b01-8afe-db05f6898bef",
   "metadata": {},
   "source": [
    "Now we will improve this..\n",
    "without using  so meny for we can fid common factor in one loop."
   ]
  },
  {
   "cell_type": "code",
   "execution_count": 3,
   "id": "90c05681-2701-4c4f-9620-aea5f94f3344",
   "metadata": {},
   "outputs": [
    {
     "name": "stdout",
     "output_type": "stream",
     "text": [
      "1\n",
      "2\n",
      "3\n",
      "6\n"
     ]
    },
    {
     "data": {
      "text/plain": [
       "6"
      ]
     },
     "execution_count": 3,
     "metadata": {},
     "output_type": "execute_result"
    }
   ],
   "source": [
    "def gcd(m,n):\n",
    "    common_factor=[]\n",
    "    for i in range(1,min(m,n)+1):\n",
    "        if m%i==0 and n%i==0:\n",
    "            print(i)\n",
    "            common_factor.append(i) #cf=i\n",
    "    return common_factor[-1]\n",
    "\n",
    "gcd(12,30)"
   ]
  },
  {
   "cell_type": "markdown",
   "id": "faef9334-d1a4-4e70-8092-9a2a165e7685",
   "metadata": {},
   "source": [
    "we can replace the list and simpl put i there.\n",
    "also could bo done using while loop..\n",
    "\n",
    "Now we do Euclid's Algorithm..."
   ]
  },
  {
   "cell_type": "code",
   "execution_count": 5,
   "id": "82831eda-5ff9-485b-8aec-b8e879d8e827",
   "metadata": {},
   "outputs": [
    {
     "name": "stdout",
     "output_type": "stream",
     "text": [
      "60 24 36\n",
      "36 24 12\n",
      "12\n"
     ]
    },
    {
     "data": {
      "text/plain": [
       "12"
      ]
     },
     "execution_count": 5,
     "metadata": {},
     "output_type": "execute_result"
    }
   ],
   "source": [
    "def gcd(m,n):   #recursive..\n",
    "    if m<n:\n",
    "        m,n = n,m\n",
    "    if m%n == 0:\n",
    "        print(n)\n",
    "        return(n)\n",
    "    else:\n",
    "        diff=m-n\n",
    "        print(m,n,diff)\n",
    "        return gcd(max(n,diff), min(n,diff))\n",
    "\n",
    "gcd(24,60)"
   ]
  },
  {
   "cell_type": "code",
   "execution_count": 9,
   "id": "b0d4b018-1b4d-4145-89f6-7eb7d62ca8d9",
   "metadata": {},
   "outputs": [
    {
     "data": {
      "text/plain": [
       "13"
      ]
     },
     "execution_count": 9,
     "metadata": {},
     "output_type": "execute_result"
    }
   ],
   "source": [
    "def gcd(m,n):\n",
    "    if m<n:\n",
    "        m,n=n,m\n",
    "    while m%n != 0:\n",
    "        m,n = n,m%n\n",
    "    return(n)\n",
    "\n",
    "gcd(13,117)"
   ]
  },
  {
   "cell_type": "code",
   "execution_count": null,
   "id": "e78c05b9-87e4-47b6-bc8d-7a9d5328d5fc",
   "metadata": {},
   "outputs": [],
   "source": []
  }
 ],
 "metadata": {
  "kernelspec": {
   "display_name": "Python 3 (ipykernel)",
   "language": "python",
   "name": "python3"
  },
  "language_info": {
   "codemirror_mode": {
    "name": "ipython",
    "version": 3
   },
   "file_extension": ".py",
   "mimetype": "text/x-python",
   "name": "python",
   "nbconvert_exporter": "python",
   "pygments_lexer": "ipython3",
   "version": "3.11.6"
  }
 },
 "nbformat": 4,
 "nbformat_minor": 5
}
